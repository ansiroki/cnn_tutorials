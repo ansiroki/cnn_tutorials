{
 "cells": [
  {
   "cell_type": "code",
   "execution_count": 16,
   "metadata": {},
   "outputs": [],
   "source": [
    "%matplotlib inline\n",
    "import keras\n",
    "from keras.models import Sequential, Model\n",
    "from keras.layers import Dense, Dropout, Activation, Flatten, Convolution2D\n",
    "from keras.callbacks import EarlyStopping, ModelCheckpoint\n",
    "from keras import optimizers\n",
    "from keras.layers import Conv2D, MaxPooling2D, Input, BatchNormalization\n",
    "from keras import backend as K\n",
    "from keras.datasets import mnist\n",
    "from keras.layers import add\n",
    "\n",
    "from keras.models import Model\n",
    "from keras.utils import plot_model\n",
    "#from keras.utils.visualize_util import plot\n",
    "\n",
    "from matplotlib import pyplot as plt\n",
    "\n",
    "import itertools\n",
    "\n",
    "from sklearn import svm, metrics\n",
    "from sklearn.metrics import accuracy_score, precision_score, recall_score\n",
    "from sklearn.metrics import confusion_matrix\n",
    "from sklearn.metrics import roc_curve, auc\n",
    "\n",
    "import numpy as np\n",
    "# fix random seed for reproducibility\n",
    "np.random.seed(123)"
   ]
  },
  {
   "cell_type": "code",
   "execution_count": 17,
   "metadata": {
    "collapsed": true
   },
   "outputs": [],
   "source": [
    "# Load pre-shuffled MNIST data into train and test sets\n",
    "(X_train, y_train), (X_test, y_test) = mnist.load_data()"
   ]
  },
  {
   "cell_type": "code",
   "execution_count": 18,
   "metadata": {},
   "outputs": [
    {
     "name": "stdout",
     "output_type": "stream",
     "text": [
      "(60000, 28, 28)\n",
      "(10000, 28, 28)\n"
     ]
    }
   ],
   "source": [
    "print(X_train.shape)\n",
    "print(X_test.shape)"
   ]
  },
  {
   "cell_type": "code",
   "execution_count": 19,
   "metadata": {},
   "outputs": [
    {
     "data": {
      "text/plain": [
       "<matplotlib.image.AxesImage at 0x7f6e4e06e128>"
      ]
     },
     "execution_count": 19,
     "metadata": {},
     "output_type": "execute_result"
    },
    {
     "data": {
      "image/png": "[encoded data removed]",
      "text/plain": [
       "<matplotlib.figure.Figure at 0x7f6e4e24ee48>"
      ]
     },
     "metadata": {},
     "output_type": "display_data"
    }
   ],
   "source": [
    "plt.imshow(X_train[0])"
   ]
  },
  {
   "cell_type": "code",
   "execution_count": 20,
   "metadata": {
    "collapsed": true
   },
   "outputs": [],
   "source": [
    "X_train = X_train.reshape(X_train.shape[0], 28, 28,1)\n",
    "X_test = X_test.reshape(X_test.shape[0], 28, 28,1)"
   ]
  },
  {
   "cell_type": "code",
   "execution_count": 21,
   "metadata": {
    "collapsed": true
   },
   "outputs": [],
   "source": [
    "X_train = X_train.astype('float32')\n",
    "X_test = X_test.astype('float32')\n",
    "X_train /= 255\n",
    "X_test /= 255"
   ]
  },
  {
   "cell_type": "code",
   "execution_count": 22,
   "metadata": {
    "collapsed": true
   },
   "outputs": [],
   "source": [
    "# Convert 1-dimensional class arrays to 10-dimensional class matrices\n",
    "Y_train = keras.utils.to_categorical(y_train, num_classes=10)\n",
    "Y_test = keras.utils.to_categorical(y_test, num_classes=10)"
   ]
  },
  {
   "cell_type": "code",
   "execution_count": 108,
   "metadata": {
    "collapsed": true
   },
   "outputs": [],
   "source": [
    "def conv_block(feat_maps_out, prev):\n",
    "    prev = BatchNormalization(axis=1)(prev) # Specifying the axis and mode allows for later merging\n",
    "    prev = Activation('relu')(prev)\n",
    "    prev = Conv2D(feat_maps_out, (3, 3), strides=[1,1], activation='relu', padding='same')(prev) \n",
    "    #prev = BatchNormalization(axis=1)(prev) # Specifying the axis and mode allows for later merging\n",
    "    #prev = Activation('relu')(prev)\n",
    "    #prev = Conv2D(feat_maps_out, (3, 3), padding='same')(prev) \n",
    "    return prev\n",
    "\n",
    "def skip_block(feat_maps_in, feat_maps_out, prev):\n",
    "    if feat_maps_in != feat_maps_out:\n",
    "        # This adds in a 1x1 convolution on shortcuts that map between an uneven amount of channels\n",
    "        prev = Conv2D(feat_maps_out, (1, 1), activation='relu', padding='same')(prev)\n",
    "    return prev \n",
    "\n",
    "def Residual(feat_maps_in, feat_maps_out, prev_layer):\n",
    "    '''\n",
    "    A customizable residual unit with convolutional and shortcut blocks\n",
    "    Args:\n",
    "      feat_maps_in: number of channels/filters coming in, from input or previous layer\n",
    "      feat_maps_out: how many output channels/filters this block will produce\n",
    "      prev_layer: the previous layer\n",
    "    '''\n",
    "\n",
    "    skip = skip_block(feat_maps_in, feat_maps_out, prev_layer)\n",
    "    conv = conv_block(feat_maps_out, prev_layer)\n",
    "    \n",
    "    merged = add([skip,conv])\n",
    "\n",
    "    print('Residual block mapping '+str(feat_maps_in)+' channels to '+str(feat_maps_out)+' channels built')\n",
    "    return merged # the residual connection"
   ]
  },
  {
   "cell_type": "code",
   "execution_count": 109,
   "metadata": {},
   "outputs": [
    {
     "name": "stdout",
     "output_type": "stream",
     "text": [
      "Residual block mapping 32 channels to 32 channels built\n"
     ]
    }
   ],
   "source": [
    "#Egyszerubb halozat\n",
    "img_rows = X_train.shape[1]  \n",
    "img_cols = X_train.shape[2] \n",
    "\n",
    "inp = Input((img_rows, img_cols,1))\n",
    "cnv = Conv2D(32, (3, 3), strides=[1,1], activation='relu', padding='same')(inp)#28*28/4=196 ami = 14*14\n",
    "r = Residual(32, 32, cnv)\n",
    "cnv2 = Conv2D(1, (1, 1), padding='same')(r)#ha ide relut tennek???\n",
    "fl = Flatten()(cnv2)\n",
    "out = Dense(10, activation='softmax')(fl)\n",
    "\n",
    "modelr = Model(inputs=inp, outputs=out)\n",
    "\n",
    "modelr.compile(optimizer=optimizers.Adam(), loss='categorical_crossentropy')"
   ]
  },
  {
   "cell_type": "code",
   "execution_count": 110,
   "metadata": {
    "collapsed": true
   },
   "outputs": [],
   "source": [
    "plot_model(modelr, to_file='model_simple4.png',show_shapes=True)"
   ]
  },
  {
   "cell_type": "code",
   "execution_count": 111,
   "metadata": {},
   "outputs": [
    {
     "name": "stdout",
     "output_type": "stream",
     "text": [
      "Train on 9000 samples, validate on 1000 samples\n",
      "Epoch 1/100\n",
      "8992/9000 [============================>.] - ETA: 0s - loss: 0.5395Epoch 00000: val_loss improved from inf to 0.82579, saving model to mnist_residualmodel4.hdf5\n",
      "9000/9000 [==============================] - 89s - loss: 0.5391 - val_loss: 0.8258\n",
      "Epoch 2/100\n",
      "8992/9000 [============================>.] - ETA: 0s - loss: 0.2122Epoch 00001: val_loss improved from 0.82579 to 0.22599, saving model to mnist_residualmodel4.hdf5\n",
      "9000/9000 [==============================] - 85s - loss: 0.2121 - val_loss: 0.2260\n",
      "Epoch 3/100\n",
      "8992/9000 [============================>.] - ETA: 0s - loss: 0.1641Epoch 00002: val_loss improved from 0.22599 to 0.21274, saving model to mnist_residualmodel4.hdf5\n",
      "9000/9000 [==============================] - 88s - loss: 0.1641 - val_loss: 0.2127\n",
      "Epoch 4/100\n",
      "8992/9000 [============================>.] - ETA: 0s - loss: 0.1353Epoch 00003: val_loss improved from 0.21274 to 0.18613, saving model to mnist_residualmodel4.hdf5\n",
      "9000/9000 [==============================] - 96s - loss: 0.1352 - val_loss: 0.1861\n",
      "Epoch 5/100\n",
      "8992/9000 [============================>.] - ETA: 0s - loss: 0.1151Epoch 00004: val_loss improved from 0.18613 to 0.17118, saving model to mnist_residualmodel4.hdf5\n",
      "9000/9000 [==============================] - 102s - loss: 0.1150 - val_loss: 0.1712\n",
      "Epoch 6/100\n",
      "8992/9000 [============================>.] - ETA: 0s - loss: 0.0937Epoch 00005: val_loss did not improve\n",
      "9000/9000 [==============================] - 115s - loss: 0.0937 - val_loss: 0.2135\n",
      "Epoch 7/100\n",
      "8992/9000 [============================>.] - ETA: 0s - loss: 0.0861Epoch 00006: val_loss did not improve\n",
      "9000/9000 [==============================] - 115s - loss: 0.0861 - val_loss: 0.2005\n",
      "Epoch 8/100\n",
      "8992/9000 [============================>.] - ETA: 0s - loss: 0.0685Epoch 00007: val_loss did not improve\n",
      "9000/9000 [==============================] - 113s - loss: 0.0685 - val_loss: 0.2204\n",
      "Epoch 9/100\n",
      "8992/9000 [============================>.] - ETA: 0s - loss: 0.0540Epoch 00008: val_loss did not improve\n",
      "9000/9000 [==============================] - 107s - loss: 0.0539 - val_loss: 0.2155\n",
      "Epoch 10/100\n",
      "8992/9000 [============================>.] - ETA: 0s - loss: 0.0465Epoch 00009: val_loss did not improve\n",
      "9000/9000 [==============================] - 117s - loss: 0.0466 - val_loss: 0.2251\n",
      "Epoch 11/100\n",
      "8992/9000 [============================>.] - ETA: 0s - loss: 0.0424Epoch 00010: val_loss did not improve\n",
      "9000/9000 [==============================] - 85s - loss: 0.0424 - val_loss: 0.2277\n"
     ]
    },
    {
     "data": {
      "text/plain": [
       "<keras.callbacks.History at 0x7f6e3e1e6b70>"
      ]
     },
     "execution_count": 111,
     "metadata": {},
     "output_type": "execute_result"
    }
   ],
   "source": [
    "modelr.fit(\n",
    "    # Feature matrix\n",
    "    X_train[:10000], \n",
    "    # Target class one-hot-encoded\n",
    "    Y_train[:10000],\n",
    "    # Iterations to be run if not stopped by EarlyStopping\n",
    "    epochs=100,\n",
    "    callbacks=[\n",
    "        EarlyStopping(monitor='val_loss',patience=5),\n",
    "        ModelCheckpoint(\n",
    "            'mnist_residualmodel4.hdf5', \n",
    "            monitor='val_loss',\n",
    "            save_best_only=True,\n",
    "            verbose=1\n",
    "        )\n",
    "    ],\n",
    "    verbose=1,\n",
    "    validation_split=0.1,\n",
    "    batch_size=32, \n",
    ")"
   ]
  },
  {
   "cell_type": "code",
   "execution_count": 112,
   "metadata": {
    "collapsed": true
   },
   "outputs": [],
   "source": [
    "model_name =  \"mnist_residualmodel4.hdf5\"\n",
    "X = X_test\n",
    "y = y_test\n",
    "# Predict classes\n",
    "modelr.load_weights(model_name)\n",
    "y_preds = modelr.predict(X) #a sima sklearn_learn nem jo mert mashogy kell predikalni ennel a haloosszeallitasnal\n",
    "y_preds_max = np.argmax(y_preds,axis=1)"
   ]
  },
  {
   "cell_type": "code",
   "execution_count": 113,
   "metadata": {
    "collapsed": true
   },
   "outputs": [],
   "source": [
    "def plot_confusion_matrix(cm, classes,\n",
    "                          normalize=False,\n",
    "                          title='Confusion matrix',\n",
    "                          cmap=plt.cm.Blues):\n",
    "    \"\"\"\n",
    "    This function prints and plots the confusion matrix.\n",
    "    Normalization can be applied by setting `normalize=True`.\n",
    "    \"\"\"\n",
    "    plt.imshow(cm, interpolation='nearest', cmap=cmap)\n",
    "    plt.title(title)\n",
    "    plt.colorbar()\n",
    "    tick_marks = np.arange(len(classes))\n",
    "    plt.xticks(tick_marks, classes, rotation=45)\n",
    "    plt.yticks(tick_marks, classes)\n",
    "\n",
    "    if normalize:\n",
    "        cm = cm.astype('float') / cm.sum(axis=1)[:, np.newaxis]\n",
    "        print(\"Normalized confusion matrix\")\n",
    "    else:\n",
    "        print('Confusion matrix, without normalization')\n",
    "\n",
    "    print(cm)\n",
    "\n",
    "    thresh = cm.max() / 2.\n",
    "    for i, j in itertools.product(range(cm.shape[0]), range(cm.shape[1])):\n",
    "        plt.text(j, i, cm[i, j],\n",
    "                 horizontalalignment=\"center\",\n",
    "                 color=\"white\" if cm[i, j] > thresh else \"black\")\n",
    "\n",
    "    plt.tight_layout()\n",
    "    plt.ylabel('True label')\n",
    "    plt.xlabel('Predicted label')"
   ]
  },
  {
   "cell_type": "code",
   "execution_count": 114,
   "metadata": {},
   "outputs": [
    {
     "name": "stdout",
     "output_type": "stream",
     "text": [
      "\n",
      "Accuracy:0.9530\n",
      "Precision:\n",
      "[ 0.95895896  0.97202797  0.92850242  0.95083579  0.95351137  0.97727273\n",
      "  0.95514781  0.93885602  0.93664203  0.95884774]\n",
      "Recall:\n",
      "[ 0.97755102  0.97973568  0.93120155  0.95742574  0.98167006  0.96412556\n",
      "  0.97807933  0.92607004  0.91067762  0.92368682]\n",
      "Confusion matrix, without normalization\n",
      "[[ 958    1    2    0    1    0   10    3    3    2]\n",
      " [   0 1112   11    0    0    0    8    0    3    1]\n",
      " [  11    4  961   18    1    0    8    7   21    1]\n",
      " [   2    0    9  967    2    6    0    9   15    0]\n",
      " [   0    2    2    0  964    0    6    2    1    5]\n",
      " [   4    0    1    7    2  860    7    2    5    4]\n",
      " [   8    3    1    0    3    3  937    0    3    0]\n",
      " [   1   12   26    7    3    2    0  952    5   20]\n",
      " [   9    4   21   11    8    6    5   16  887    7]\n",
      " [   6    6    1    7   27    3    0   23    4  932]]\n"
     ]
    },
    {
     "data": {
      "image/png": "[encoded data removed]",
      "text/plain": [
       "<matplotlib.figure.Figure at 0x7f6e58938ba8>"
      ]
     },
     "metadata": {},
     "output_type": "display_data"
    }
   ],
   "source": [
    "#sklearn accuracy score\n",
    "print(\"\\nAccuracy:%0.4f\"%accuracy_score(y, y_preds_max))\n",
    "#sklearn precision score\n",
    "print(\"Precision:\")\n",
    "print(precision_score(y, y_preds_max,average=None))\n",
    "#sklearn recall\n",
    "print(\"Recall:\")\n",
    "print(recall_score(y, y_preds_max,average=None))\n",
    "#Confusion matrix\n",
    "confMatrix = confusion_matrix(y, y_preds_max)\n",
    "plot_confusion_matrix(confMatrix, classes=[0,1,2,3,4,5,6,7,8,9],\n",
    "                        title='Confusion matrix, without normalization')"
   ]
  },
  {
   "cell_type": "code",
   "execution_count": null,
   "metadata": {
    "collapsed": true
   },
   "outputs": [],
   "source": []
  }
 ],
 "metadata": {
  "kernelspec": {
   "display_name": "Python 3",
   "language": "python",
   "name": "python3"
  },
  "language_info": {
   "codemirror_mode": {
    "name": "ipython",
    "version": 3
   },
   "file_extension": ".py",
   "mimetype": "text/x-python",
   "name": "python",
   "nbconvert_exporter": "python",
   "pygments_lexer": "ipython3",
   "version": "3.5.3"
  }
 },
 "nbformat": 4,
 "nbformat_minor": 2
}
