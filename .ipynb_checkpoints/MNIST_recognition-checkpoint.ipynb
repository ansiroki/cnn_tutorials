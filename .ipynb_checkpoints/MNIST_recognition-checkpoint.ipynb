{
 "cells": [
  {
   "cell_type": "code",
   "execution_count": 23,
   "metadata": {},
   "outputs": [],
   "source": [
    "%matplotlib inline\n",
    "THEANO_FLAGS='cuda.root=/usr/local/cuda-8.0/, device=cuda, floatX=float32'\n",
    "\n",
    "import keras\n",
    "from keras.models import Sequential, Model\n",
    "from keras.layers import Dense, Dropout, Activation, Flatten, Convolution2D\n",
    "from keras.callbacks import EarlyStopping, ModelCheckpoint\n",
    "from keras import optimizers\n",
    "from keras.layers import Conv2D, MaxPooling2D, Input, BatchNormalization\n",
    "from keras import backend as K\n",
    "from keras.datasets import mnist\n",
    "from keras.layers import add\n",
    "\n",
    "from keras.models import Model\n",
    "from keras.utils import plot_model\n",
    "#from keras.utils.visualize_util import plot\n",
    "\n",
    "from matplotlib import pyplot as plt\n",
    "\n",
    "import itertools\n",
    "\n",
    "from sklearn import svm, metrics\n",
    "from sklearn.metrics import accuracy_score, precision_score, recall_score\n",
    "from sklearn.metrics import confusion_matrix\n",
    "from sklearn.metrics import roc_curve, auc\n",
    "\n",
    "import numpy as np\n",
    "# fix random seed for reproducibility\n",
    "np.random.seed(7)"
   ]
  },
  {
   "cell_type": "code",
   "execution_count": 2,
   "metadata": {},
   "outputs": [
    {
     "name": "stdout",
     "output_type": "stream",
     "text": [
      "[GpuElemwise{exp,no_inplace}(<GpuArrayType<None>(float32, (False,))>), HostFromGpu(gpuarray)(GpuElemwise{exp,no_inplace}.0)]\n",
      "Looping 1000 times took 0.463663 seconds\n",
      "Result is [ 1.23178029  1.61879349  1.52278066 ...,  2.20771813  2.29967761\n",
      "  1.62323296]\n",
      "Used the gpu\n"
     ]
    }
   ],
   "source": [
    "from theano import function, config, shared, tensor\n",
    "import numpy\n",
    "import time\n",
    "\n",
    "vlen = 10 * 30 * 768  # 10 x #cores x # threads per core\n",
    "iters = 1000\n",
    "\n",
    "rng = numpy.random.RandomState(22)\n",
    "x = shared(numpy.asarray(rng.rand(vlen), config.floatX))\n",
    "f = function([], tensor.exp(x))\n",
    "print(f.maker.fgraph.toposort())\n",
    "t0 = time.time()\n",
    "for i in range(iters):\n",
    "    r = f()\n",
    "t1 = time.time()\n",
    "print(\"Looping %d times took %f seconds\" % (iters, t1 - t0))\n",
    "print(\"Result is %s\" % (r,))\n",
    "if numpy.any([isinstance(x.op, tensor.Elemwise) and\n",
    "              ('Gpu' not in type(x.op).__name__)\n",
    "              for x in f.maker.fgraph.toposort()]):\n",
    "    print('Used the cpu')\n",
    "else:\n",
    "    print('Used the gpu')"
   ]
  },
  {
   "cell_type": "markdown",
   "metadata": {},
   "source": [
    "## 1. Preprocess input data for Keras"
   ]
  },
  {
   "cell_type": "code",
   "execution_count": 3,
   "metadata": {
    "collapsed": true
   },
   "outputs": [],
   "source": [
    "# Load pre-shuffled MNIST data into train and test sets\n",
    "(X_train, y_train), (X_test, y_test) = mnist.load_data()"
   ]
  },
  {
   "cell_type": "code",
   "execution_count": 4,
   "metadata": {},
   "outputs": [
    {
     "name": "stdout",
     "output_type": "stream",
     "text": [
      "(60000, 28, 28)\n",
      "(10000, 28, 28)\n"
     ]
    }
   ],
   "source": [
    "print(X_train.shape)\n",
    "print(X_test.shape)"
   ]
  },
  {
   "cell_type": "code",
   "execution_count": 5,
   "metadata": {},
   "outputs": [
    {
     "data": {
      "text/plain": [
       "<matplotlib.image.AxesImage at 0x7f715caccc18>"
      ]
     },
     "execution_count": 5,
     "metadata": {},
     "output_type": "execute_result"
    },
    {
     "data": {
      "image/png": "[encoded data removed]",
      "text/plain": [
       "<matplotlib.figure.Figure at 0x7f7162a0bdd8>"
      ]
     },
     "metadata": {},
     "output_type": "display_data"
    }
   ],
   "source": [
    "plt.imshow(X_train[0])"
   ]
  },
  {
   "cell_type": "code",
   "execution_count": 6,
   "metadata": {},
   "outputs": [
    {
     "data": {
      "text/plain": [
       "'channels_last'"
      ]
     },
     "execution_count": 6,
     "metadata": {},
     "output_type": "execute_result"
    }
   ],
   "source": [
    "K.image_data_format()"
   ]
  },
  {
   "cell_type": "code",
   "execution_count": 7,
   "metadata": {
    "collapsed": true
   },
   "outputs": [],
   "source": [
    "X_train = X_train.reshape(X_train.shape[0], 28, 28,1)\n",
    "X_test = X_test.reshape(X_test.shape[0], 28, 28,1)"
   ]
  },
  {
   "cell_type": "code",
   "execution_count": 8,
   "metadata": {
    "collapsed": true
   },
   "outputs": [],
   "source": [
    "X_train = X_train.astype('float32')\n",
    "X_test = X_test.astype('float32')\n",
    "X_train /= 255\n",
    "X_test /= 255"
   ]
  },
  {
   "cell_type": "markdown",
   "metadata": {},
   "source": [
    "## 2. Preprocess class labels for Keras"
   ]
  },
  {
   "cell_type": "code",
   "execution_count": 9,
   "metadata": {},
   "outputs": [
    {
     "name": "stdout",
     "output_type": "stream",
     "text": [
      "(60000,)\n"
     ]
    }
   ],
   "source": [
    "print(y_train.shape)"
   ]
  },
  {
   "cell_type": "code",
   "execution_count": 10,
   "metadata": {},
   "outputs": [
    {
     "name": "stdout",
     "output_type": "stream",
     "text": [
      "[5 0 4 1 9 2 1 3 1 4]\n"
     ]
    }
   ],
   "source": [
    "print(y_train[:10])"
   ]
  },
  {
   "cell_type": "code",
   "execution_count": 11,
   "metadata": {
    "collapsed": true
   },
   "outputs": [],
   "source": [
    "# Convert 1-dimensional class arrays to 10-dimensional class matrices\n",
    "Y_train = keras.utils.to_categorical(y_train, num_classes=10)\n",
    "Y_test = keras.utils.to_categorical(y_test, num_classes=10)"
   ]
  },
  {
   "cell_type": "code",
   "execution_count": 12,
   "metadata": {},
   "outputs": [
    {
     "name": "stdout",
     "output_type": "stream",
     "text": [
      "(60000, 10)\n"
     ]
    }
   ],
   "source": [
    "print(Y_train.shape)"
   ]
  },
  {
   "cell_type": "markdown",
   "metadata": {},
   "source": [
    "## 3. Define model architecture: Conv2D and Dense layers"
   ]
  },
  {
   "cell_type": "code",
   "execution_count": 38,
   "metadata": {
    "collapsed": true
   },
   "outputs": [],
   "source": [
    "model = Sequential()\n",
    " \n",
    "model.add(Conv2D(32, (3, 3), activation='relu', input_shape=(28,28,1)))\n",
    "model.add(Conv2D(32, (3, 3), activation='relu'))\n",
    "model.add(MaxPooling2D(pool_size=(2,2)))\n",
    "model.add(Dropout(0.25))\n",
    " \n",
    "model.add(Flatten())\n",
    "model.add(Dense(128, activation='relu'))\n",
    "model.add(Dropout(0.5))\n",
    "model.add(Dense(10, activation='softmax'))"
   ]
  },
  {
   "cell_type": "markdown",
   "metadata": {},
   "source": [
    "## 4. Compile model"
   ]
  },
  {
   "cell_type": "code",
   "execution_count": 39,
   "metadata": {
    "collapsed": true
   },
   "outputs": [],
   "source": [
    "model.compile(\n",
    "    optimizer=optimizers.Adam(),\n",
    "    loss='categorical_crossentropy',\n",
    "    metrics=['accuracy']\n",
    ")"
   ]
  },
  {
   "cell_type": "markdown",
   "metadata": {},
   "source": [
    "## 5. Fit model"
   ]
  },
  {
   "cell_type": "code",
   "execution_count": 17,
   "metadata": {
    "scrolled": true
   },
   "outputs": [
    {
     "name": "stdout",
     "output_type": "stream",
     "text": [
      "Train on 54000 samples, validate on 6000 samples\n",
      "Epoch 1/100\n",
      "53984/54000 [============================>.] - ETA: 0s - loss: 0.0297 - acc: 0.9905Epoch 00000: val_loss improved from inf to 0.03247, saving model to mnist_model.hdf5\n",
      "54000/54000 [==============================] - 232s - loss: 0.0297 - acc: 0.9905 - val_loss: 0.0325 - val_acc: 0.9923\n",
      "Epoch 2/100\n",
      "53984/54000 [============================>.] - ETA: 0s - loss: 0.0272 - acc: 0.9913Epoch 00001: val_loss improved from 0.03247 to 0.02913, saving model to mnist_model.hdf5\n",
      "54000/54000 [==============================] - 230s - loss: 0.0272 - acc: 0.9913 - val_loss: 0.0291 - val_acc: 0.9923\n",
      "Epoch 3/100\n",
      "53984/54000 [============================>.] - ETA: 0s - loss: 0.0258 - acc: 0.9917Epoch 00002: val_loss did not improve\n",
      "54000/54000 [==============================] - 228s - loss: 0.0258 - acc: 0.9917 - val_loss: 0.0333 - val_acc: 0.9922\n",
      "Epoch 4/100\n",
      "53984/54000 [============================>.] - ETA: 0s - loss: 0.0239 - acc: 0.9919Epoch 00003: val_loss did not improve\n",
      "54000/54000 [==============================] - 223s - loss: 0.0238 - acc: 0.9919 - val_loss: 0.0345 - val_acc: 0.9927\n",
      "Epoch 5/100\n",
      "53984/54000 [============================>.] - ETA: 0s - loss: 0.0212 - acc: 0.9928Epoch 00004: val_loss did not improve\n",
      "54000/54000 [==============================] - 223s - loss: 0.0212 - acc: 0.9928 - val_loss: 0.0355 - val_acc: 0.9923\n",
      "Epoch 6/100\n",
      "53984/54000 [============================>.] - ETA: 0s - loss: 0.0236 - acc: 0.9923Epoch 00005: val_loss did not improve\n",
      "54000/54000 [==============================] - 223s - loss: 0.0236 - acc: 0.9923 - val_loss: 0.0303 - val_acc: 0.9937\n",
      "Epoch 7/100\n",
      "53984/54000 [============================>.] - ETA: 0s - loss: 0.0211 - acc: 0.9929Epoch 00006: val_loss did not improve\n",
      "54000/54000 [==============================] - 223s - loss: 0.0211 - acc: 0.9929 - val_loss: 0.0313 - val_acc: 0.9928\n",
      "Epoch 8/100\n",
      "53984/54000 [============================>.] - ETA: 0s - loss: 0.0203 - acc: 0.9936Epoch 00007: val_loss did not improve\n",
      "54000/54000 [==============================] - 228s - loss: 0.0203 - acc: 0.9936 - val_loss: 0.0360 - val_acc: 0.9912\n"
     ]
    },
    {
     "data": {
      "text/plain": [
       "<keras.callbacks.History at 0x7f37eececf60>"
      ]
     },
     "execution_count": 17,
     "metadata": {},
     "output_type": "execute_result"
    }
   ],
   "source": [
    "model.fit(\n",
    "    # Feature matrix\n",
    "    X_train, \n",
    "    # Target class one-hot-encoded\n",
    "    Y_train,\n",
    "    # Iterations to be run if not stopped by EarlyStopping\n",
    "    epochs=100,\n",
    "    callbacks=[\n",
    "        EarlyStopping(monitor='val_loss',patience=5),\n",
    "        ModelCheckpoint(\n",
    "            'mnist_model.hdf5',\n",
    "            monitor='val_loss',\n",
    "            save_best_only=True,\n",
    "            verbose=1\n",
    "        )\n",
    "    ],\n",
    "    verbose=1,\n",
    "    validation_split=0.1,\n",
    "    batch_size=32, \n",
    ")"
   ]
  },
  {
   "cell_type": "code",
   "execution_count": 19,
   "metadata": {
    "collapsed": true
   },
   "outputs": [
    {
     "name": "stdout",
     "output_type": "stream",
     "text": [
      "_________________________________________________________________\n",
      "Layer (type)                 Output Shape              Param #   \n",
      "=================================================================\n",
      "conv2d_1 (Conv2D)            (None, 26, 26, 32)        320       \n",
      "_________________________________________________________________\n",
      "conv2d_2 (Conv2D)            (None, 24, 24, 32)        9248      \n",
      "_________________________________________________________________\n",
      "max_pooling2d_1 (MaxPooling2 (None, 12, 12, 32)        0         \n",
      "_________________________________________________________________\n",
      "dropout_1 (Dropout)          (None, 12, 12, 32)        0         \n",
      "_________________________________________________________________\n",
      "flatten_1 (Flatten)          (None, 4608)              0         \n",
      "_________________________________________________________________\n",
      "dense_1 (Dense)              (None, 128)               589952    \n",
      "_________________________________________________________________\n",
      "dropout_2 (Dropout)          (None, 128)               0         \n",
      "_________________________________________________________________\n",
      "dense_2 (Dense)              (None, 10)                1290      \n",
      "=================================================================\n",
      "Total params: 600,810\n",
      "Trainable params: 600,810\n",
      "Non-trainable params: 0\n",
      "_________________________________________________________________\n"
     ]
    }
   ],
   "source": [
    "model.summary()"
   ]
  },
  {
   "cell_type": "markdown",
   "metadata": {},
   "source": [
    "## 6. Train evaluation"
   ]
  },
  {
   "cell_type": "code",
   "execution_count": 40,
   "metadata": {},
   "outputs": [
    {
     "name": "stdout",
     "output_type": "stream",
     "text": [
      "loss:0.0070\n",
      "accuracy:0.9981\n"
     ]
    }
   ],
   "source": [
    "#Evaluate\n",
    "model.load_weights(\"mnist_model.hdf5\")\n",
    "score_train = model.evaluate(X_train, Y_train, verbose=0)\n",
    "print(\"loss:%0.4f\"%score_train[0])\n",
    "print(\"accuracy:%0.4f\"%score_train[1])"
   ]
  },
  {
   "cell_type": "code",
   "execution_count": 41,
   "metadata": {},
   "outputs": [
    {
     "name": "stdout",
     "output_type": "stream",
     "text": [
      "60000/60000 [==============================] - 115s   \n"
     ]
    }
   ],
   "source": [
    "# Predict classes\n",
    "model.load_weights(\"mnist_model.hdf5\")\n",
    "y_train_preds = model.predict_classes(X_train)"
   ]
  },
  {
   "cell_type": "code",
   "execution_count": 42,
   "metadata": {},
   "outputs": [
    {
     "data": {
      "text/plain": [
       "0.99814999999999998"
      ]
     },
     "execution_count": 42,
     "metadata": {},
     "output_type": "execute_result"
    }
   ],
   "source": [
    "#sklearn accuracy score\n",
    "accuracy_score(y_train, y_train_preds)"
   ]
  },
  {
   "cell_type": "code",
   "execution_count": 43,
   "metadata": {},
   "outputs": [
    {
     "data": {
      "text/plain": [
       "array([ 0.9994935 ,  0.99748372,  0.99949571,  0.99788239,  0.99522021,\n",
       "        0.99796936,  0.99898614,  0.99808582,  0.99948604,  0.99747219])"
      ]
     },
     "execution_count": 43,
     "metadata": {},
     "output_type": "execute_result"
    }
   ],
   "source": [
    "#sklearn precision score\n",
    "precision_score(y_train, y_train_preds,average=None)"
   ]
  },
  {
   "cell_type": "code",
   "execution_count": 44,
   "metadata": {},
   "outputs": [
    {
     "data": {
      "text/plain": [
       "array([ 0.9994935 ,  0.99955503,  0.9979859 ,  0.99918447,  0.99794591,\n",
       "        0.99723298,  0.99898614,  0.99872306,  0.99709451,  0.99495714])"
      ]
     },
     "execution_count": 44,
     "metadata": {},
     "output_type": "execute_result"
    }
   ],
   "source": [
    "#sklearn recall\n",
    "recall_score(y_train, y_train_preds,average=None)"
   ]
  },
  {
   "cell_type": "markdown",
   "metadata": {},
   "source": [
    "### Confusion matrix"
   ]
  },
  {
   "cell_type": "code",
   "execution_count": 33,
   "metadata": {
    "collapsed": true
   },
   "outputs": [],
   "source": [
    "def plot_confusion_matrix(cm, classes,\n",
    "                          normalize=False,\n",
    "                          title='Confusion matrix',\n",
    "                          cmap=plt.cm.Blues):\n",
    "    \"\"\"\n",
    "    This function prints and plots the confusion matrix.\n",
    "    Normalization can be applied by setting `normalize=True`.\n",
    "    \"\"\"\n",
    "    plt.imshow(cm, interpolation='nearest', cmap=cmap)\n",
    "    plt.title(title)\n",
    "    plt.colorbar()\n",
    "    tick_marks = np.arange(len(classes))\n",
    "    plt.xticks(tick_marks, classes, rotation=45)\n",
    "    plt.yticks(tick_marks, classes)\n",
    "\n",
    "    if normalize:\n",
    "        cm = cm.astype('float') / cm.sum(axis=1)[:, np.newaxis]\n",
    "        print(\"Normalized confusion matrix\")\n",
    "    else:\n",
    "        print('Confusion matrix, without normalization')\n",
    "\n",
    "    print(cm)\n",
    "\n",
    "    thresh = cm.max() / 2.\n",
    "    for i, j in itertools.product(range(cm.shape[0]), range(cm.shape[1])):\n",
    "        plt.text(j, i, cm[i, j],\n",
    "                 horizontalalignment=\"center\",\n",
    "                 color=\"white\" if cm[i, j] > thresh else \"black\")\n",
    "\n",
    "    plt.tight_layout()\n",
    "    plt.ylabel('True label')\n",
    "    plt.xlabel('Predicted label')"
   ]
  },
  {
   "cell_type": "code",
   "execution_count": 24,
   "metadata": {
    "scrolled": false
   },
   "outputs": [
    {
     "name": "stdout",
     "output_type": "stream",
     "text": [
      "Confusion matrix, without normalization\n",
      "[[5920    0    0    0    0    0    0    1    1    1]\n",
      " [   0 6739    1    0    0    0    0    2    0    0]\n",
      " [   1    5 5946    1    0    0    0    4    0    1]\n",
      " [   0    0    1 6126    0    1    0    1    1    1]\n",
      " [   0    4    0    0 5830    0    1    1    0    6]\n",
      " [   1    1    1    7    0 5406    4    0    0    1]\n",
      " [   0    0    0    0    1    4 5912    0    1    0]\n",
      " [   0    5    0    0    2    0    0 6257    0    1]\n",
      " [   1    1    0    1    4    5    1    0 5834    4]\n",
      " [   0    1    0    4   21    1    0    3    0 5919]]\n"
     ]
    },
    {
     "data": {
      "image/png": "[encoded data removed]",
      "text/plain": [
       "<matplotlib.figure.Figure at 0x7f37ee902dd8>"
      ]
     },
     "metadata": {},
     "output_type": "display_data"
    }
   ],
   "source": [
    "confMatrix = confusion_matrix(y_train, y_train_preds)\n",
    "plot_confusion_matrix(confMatrix, classes=[0,1,2,3,4,5,6,7,8,9],\n",
    "                        title='Confusion matrix, without normalization')"
   ]
  },
  {
   "cell_type": "markdown",
   "metadata": {},
   "source": [
    "## 7. Test evaluation"
   ]
  },
  {
   "cell_type": "code",
   "execution_count": 26,
   "metadata": {},
   "outputs": [
    {
     "name": "stdout",
     "output_type": "stream",
     "text": [
      "loss:0.0311\n",
      "accuracy:0.9911\n"
     ]
    }
   ],
   "source": [
    "#Evaluate\n",
    "model.load_weights(\"mnist_model.hdf5\")\n",
    "score_test = model.evaluate(X_test, Y_test, verbose=0)\n",
    "print(\"loss:%0.4f\"%score_test[0])\n",
    "print(\"accuracy:%0.4f\"%score_test[1])"
   ]
  },
  {
   "cell_type": "code",
   "execution_count": 19,
   "metadata": {},
   "outputs": [
    {
     "name": "stdout",
     "output_type": "stream",
     "text": [
      " 9984/10000 [============================>.] - ETA: 0s"
     ]
    }
   ],
   "source": [
    "#Predict classes\n",
    "model.load_weights(\"mnist_model.hdf5\")\n",
    "y_test_preds = model.predict_classes(X_test)"
   ]
  },
  {
   "cell_type": "code",
   "execution_count": 20,
   "metadata": {},
   "outputs": [
    {
     "data": {
      "text/plain": [
       "0.99109999999999998"
      ]
     },
     "execution_count": 20,
     "metadata": {},
     "output_type": "execute_result"
    }
   ],
   "source": [
    "#sklearn accuracy score\n",
    "accuracy_score(y_test, y_test_preds)"
   ]
  },
  {
   "cell_type": "code",
   "execution_count": 21,
   "metadata": {},
   "outputs": [
    {
     "data": {
      "text/plain": [
       "array([ 0.99186992,  0.9877836 ,  0.99512195,  0.99017682,  0.99084435,\n",
       "        0.98989899,  0.99160546,  0.98550725,  0.99380805,  0.99497992])"
      ]
     },
     "execution_count": 21,
     "metadata": {},
     "output_type": "execute_result"
    }
   ],
   "source": [
    "#sklearn precision score\n",
    "precision_score(y_test, y_test_preds,average=None)"
   ]
  },
  {
   "cell_type": "code",
   "execution_count": 22,
   "metadata": {},
   "outputs": [
    {
     "data": {
      "text/plain": [
       "array([ 0.99591837,  0.99735683,  0.98837209,  0.9980198 ,  0.99185336,\n",
       "        0.98878924,  0.98643006,  0.9922179 ,  0.98870637,  0.98216056])"
      ]
     },
     "execution_count": 22,
     "metadata": {},
     "output_type": "execute_result"
    }
   ],
   "source": [
    "#sklearn recall\n",
    "recall_score(y_test, y_test_preds,average=None)"
   ]
  },
  {
   "cell_type": "code",
   "execution_count": 23,
   "metadata": {},
   "outputs": [
    {
     "name": "stdout",
     "output_type": "stream",
     "text": [
      "Confusion matrix, without normalization\n",
      "[[ 976    1    0    1    0    0    2    0    0    0]\n",
      " [   0 1132    0    0    0    1    0    1    1    0]\n",
      " [   1    4 1020    0    0    0    0    7    0    0]\n",
      " [   0    0    0 1008    0    2    0    0    0    0]\n",
      " [   0    0    0    0  974    0    4    1    1    2]\n",
      " [   1    0    0    7    0  882    2    0    0    0]\n",
      " [   2    3    0    2    1    4  945    0    1    0]\n",
      " [   0    4    3    0    0    0    0 1020    1    0]\n",
      " [   3    0    2    0    2    0    0    1  963    3]\n",
      " [   1    2    0    0    6    2    0    5    2  991]]\n"
     ]
    },
    {
     "data": {
      "image/png": "[encoded data removed]",
      "text/plain": [
       "<matplotlib.figure.Figure at 0x7f70e2105f60>"
      ]
     },
     "metadata": {},
     "output_type": "display_data"
    }
   ],
   "source": [
    "#Confusion matrix\n",
    "confMatrix = confusion_matrix(y_test, y_test_preds)\n",
    "plot_confusion_matrix(confMatrix, classes=[0,1,2,3,4,5,6,7,8,9],\n",
    "                        title='Confusion matrix, without normalization')"
   ]
  },
  {
   "cell_type": "markdown",
   "metadata": {},
   "source": [
    "## 3.2 Define an other model architecture: Dense layers"
   ]
  },
  {
   "cell_type": "code",
   "execution_count": 117,
   "metadata": {
    "collapsed": true
   },
   "outputs": [],
   "source": [
    "input_shape = (28, 28,1)\n",
    "modeld = Sequential()\n",
    "modeld.add(Flatten(input_shape=input_shape))\n",
    "modeld.add(Dense(128, activation='relu'))\n",
    "modeld.add(Dropout(0.5))\n",
    "modeld.add(Dense(Y_train.shape[1], activation='softmax'))"
   ]
  },
  {
   "cell_type": "code",
   "execution_count": 118,
   "metadata": {
    "collapsed": true
   },
   "outputs": [],
   "source": [
    "modeld.compile(\n",
    "    optimizer=optimizers.Adam(),\n",
    "    loss='categorical_crossentropy',\n",
    "    metrics=['accuracy']\n",
    ")"
   ]
  },
  {
   "cell_type": "code",
   "execution_count": 121,
   "metadata": {
    "collapsed": true
   },
   "outputs": [
    {
     "name": "stdout",
     "output_type": "stream",
     "text": [
      "Train on 54000 samples, validate on 6000 samples\n",
      "Epoch 1/100\n",
      "53728/54000 [============================>.] - ETA: 0s - loss: 0.4151 - acc: 0.8766Epoch 00000: val_loss improved from inf to 0.14216, saving model to mnist.model\n",
      "54000/54000 [==============================] - 11s - loss: 0.4145 - acc: 0.8767 - val_loss: 0.1422 - val_acc: 0.9615\n",
      "Epoch 2/100\n",
      "53888/54000 [============================>.] - ETA: 0s - loss: 0.2301 - acc: 0.9328Epoch 00001: val_loss improved from 0.14216 to 0.11020, saving model to mnist.model\n",
      "54000/54000 [==============================] - 9s - loss: 0.2302 - acc: 0.9328 - val_loss: 0.1102 - val_acc: 0.9692\n",
      "Epoch 3/100\n",
      "53856/54000 [============================>.] - ETA: 0s - loss: 0.1920 - acc: 0.9419Epoch 00002: val_loss improved from 0.11020 to 0.09329, saving model to mnist.model\n",
      "54000/54000 [==============================] - 9s - loss: 0.1920 - acc: 0.9419 - val_loss: 0.0933 - val_acc: 0.9733\n",
      "Epoch 4/100\n",
      "53952/54000 [============================>.] - ETA: 0s - loss: 0.1692 - acc: 0.9493Epoch 00003: val_loss improved from 0.09329 to 0.08594, saving model to mnist.model\n",
      "54000/54000 [==============================] - 10s - loss: 0.1692 - acc: 0.9493 - val_loss: 0.0859 - val_acc: 0.9747\n",
      "Epoch 5/100\n",
      "53984/54000 [============================>.] - ETA: 0s - loss: 0.1521 - acc: 0.9542Epoch 00004: val_loss improved from 0.08594 to 0.08072, saving model to mnist.model\n",
      "54000/54000 [==============================] - 10s - loss: 0.1522 - acc: 0.9542 - val_loss: 0.0807 - val_acc: 0.9768\n",
      "Epoch 6/100\n",
      "53792/54000 [============================>.] - ETA: 0s - loss: 0.1418 - acc: 0.9567Epoch 00005: val_loss improved from 0.08072 to 0.07735, saving model to mnist.model\n",
      "54000/54000 [==============================] - 10s - loss: 0.1417 - acc: 0.9567 - val_loss: 0.0773 - val_acc: 0.9805\n",
      "Epoch 7/100\n",
      "53952/54000 [============================>.] - ETA: 0s - loss: 0.1348 - acc: 0.9582Epoch 00006: val_loss improved from 0.07735 to 0.07514, saving model to mnist.model\n",
      "54000/54000 [==============================] - 9s - loss: 0.1347 - acc: 0.9582 - val_loss: 0.0751 - val_acc: 0.9778\n",
      "Epoch 8/100\n",
      "53952/54000 [============================>.] - ETA: 0s - loss: 0.1267 - acc: 0.9599Epoch 00007: val_loss did not improve\n",
      "54000/54000 [==============================] - 10s - loss: 0.1267 - acc: 0.9599 - val_loss: 0.0793 - val_acc: 0.9782\n",
      "Epoch 9/100\n",
      "53952/54000 [============================>.] - ETA: 0s - loss: 0.1234 - acc: 0.9617Epoch 00008: val_loss improved from 0.07514 to 0.07307, saving model to mnist.model\n",
      "54000/54000 [==============================] - 10s - loss: 0.1233 - acc: 0.9618 - val_loss: 0.0731 - val_acc: 0.9790\n",
      "Epoch 10/100\n",
      "53760/54000 [============================>.] - ETA: 0s - loss: 0.1162 - acc: 0.9642Epoch 00009: val_loss did not improve\n",
      "54000/54000 [==============================] - 9s - loss: 0.1160 - acc: 0.9642 - val_loss: 0.0735 - val_acc: 0.9797\n",
      "Epoch 11/100\n",
      "53792/54000 [============================>.] - ETA: 0s - loss: 0.1108 - acc: 0.9644Epoch 00010: val_loss did not improve\n",
      "54000/54000 [==============================] - 9s - loss: 0.1108 - acc: 0.9644 - val_loss: 0.0765 - val_acc: 0.9798\n",
      "Epoch 12/100\n",
      "53760/54000 [============================>.] - ETA: 0s - loss: 0.1066 - acc: 0.9658Epoch 00011: val_loss improved from 0.07307 to 0.06890, saving model to mnist.model\n",
      "54000/54000 [==============================] - 9s - loss: 0.1067 - acc: 0.9658 - val_loss: 0.0689 - val_acc: 0.9807\n",
      "Epoch 13/100\n",
      "53696/54000 [============================>.] - ETA: 0s - loss: 0.1078 - acc: 0.9648Epoch 00012: val_loss did not improve\n",
      "54000/54000 [==============================] - 9s - loss: 0.1075 - acc: 0.9649 - val_loss: 0.0759 - val_acc: 0.9803\n",
      "Epoch 14/100\n",
      "53920/54000 [============================>.] - ETA: 0s - loss: 0.1001 - acc: 0.9667Epoch 00013: val_loss did not improve\n",
      "54000/54000 [==============================] - 9s - loss: 0.1003 - acc: 0.9667 - val_loss: 0.0720 - val_acc: 0.9817\n",
      "Epoch 15/100\n",
      "53760/54000 [============================>.] - ETA: 0s - loss: 0.1025 - acc: 0.9674Epoch 00014: val_loss did not improve\n",
      "54000/54000 [==============================] - 9s - loss: 0.1025 - acc: 0.9675 - val_loss: 0.0741 - val_acc: 0.9793\n",
      "Epoch 16/100\n",
      "53888/54000 [============================>.] - ETA: 0s - loss: 0.0971 - acc: 0.9687Epoch 00015: val_loss did not improve\n",
      "54000/54000 [==============================] - 9s - loss: 0.0970 - acc: 0.9687 - val_loss: 0.0716 - val_acc: 0.9815\n",
      "Epoch 17/100\n",
      "53760/54000 [============================>.] - ETA: 0s - loss: 0.0943 - acc: 0.9694Epoch 00016: val_loss did not improve\n",
      "54000/54000 [==============================] - 9s - loss: 0.0947 - acc: 0.9694 - val_loss: 0.0737 - val_acc: 0.9808\n",
      "Epoch 18/100\n",
      "53760/54000 [============================>.] - ETA: 0s - loss: 0.0915 - acc: 0.9703Epoch 00017: val_loss did not improve\n",
      "54000/54000 [==============================] - 9s - loss: 0.0915 - acc: 0.9703 - val_loss: 0.0739 - val_acc: 0.9810\n"
     ]
    },
    {
     "data": {
      "text/plain": [
       "<keras.callbacks.History at 0x7f5658047240>"
      ]
     },
     "execution_count": 121,
     "metadata": {},
     "output_type": "execute_result"
    }
   ],
   "source": [
    "modeld.fit(\n",
    "    # Feature matrix\n",
    "    X_train, \n",
    "    # Target class one-hot-encoded\n",
    "    Y_train,\n",
    "    # Iterations to be run if not stopped by EarlyStopping\n",
    "    epochs=100,\n",
    "    callbacks=[\n",
    "        EarlyStopping(monitor='val_loss',patience=5),\n",
    "        ModelCheckpoint(\n",
    "            'mnist_model2.hdf5', \n",
    "            monitor='val_loss',\n",
    "            save_best_only=True,\n",
    "            verbose=1\n",
    "        )\n",
    "    ],\n",
    "    verbose=1,\n",
    "    validation_split=0.1,\n",
    "    batch_size=32, \n",
    ")"
   ]
  },
  {
   "cell_type": "code",
   "execution_count": 123,
   "metadata": {},
   "outputs": [
    {
     "name": "stdout",
     "output_type": "stream",
     "text": [
      "_________________________________________________________________\n",
      "Layer (type)                 Output Shape              Param #   \n",
      "=================================================================\n",
      "flatten_3 (Flatten)          (None, 784)               0         \n",
      "_________________________________________________________________\n",
      "dense_9 (Dense)              (None, 128)               100480    \n",
      "_________________________________________________________________\n",
      "dropout_6 (Dropout)          (None, 128)               0         \n",
      "_________________________________________________________________\n",
      "dense_10 (Dense)             (None, 10)                1290      \n",
      "=================================================================\n",
      "Total params: 101,770.0\n",
      "Trainable params: 101,770.0\n",
      "Non-trainable params: 0.0\n",
      "_________________________________________________________________\n"
     ]
    }
   ],
   "source": [
    "modeld.summary()"
   ]
  },
  {
   "cell_type": "markdown",
   "metadata": {},
   "source": [
    "## Evaluation function"
   ]
  },
  {
   "cell_type": "code",
   "execution_count": 21,
   "metadata": {
    "collapsed": true
   },
   "outputs": [],
   "source": [
    "def sklearn_evaluations(X,y,model,model_name):\n",
    "    # Predict classes\n",
    "    model.load_weights(model_name)\n",
    "    y_preds = model.predict_classes(X)\n",
    "    #sklearn accuracy score\n",
    "    print(\"\\nAccuracy:%0.4f\"%accuracy_score(y, y_preds))\n",
    "    #sklearn precision score\n",
    "    print(\"Precision:\")\n",
    "    print(precision_score(y, y_preds,average=None))\n",
    "    #sklearn recall\n",
    "    print(\"Recall:\")\n",
    "    print(recall_score(y, y_preds,average=None))\n",
    "    #Confusion matrix\n",
    "    confMatrix = confusion_matrix(y, y_preds)\n",
    "    plot_confusion_matrix(confMatrix, classes=[0,1,2,3,4,5,6,7,8,9],\n",
    "                        title='Confusion matrix, without normalization')"
   ]
  },
  {
   "cell_type": "markdown",
   "metadata": {},
   "source": [
    "## 6. Train evaluation"
   ]
  },
  {
   "cell_type": "code",
   "execution_count": 137,
   "metadata": {},
   "outputs": [
    {
     "name": "stdout",
     "output_type": "stream",
     "text": [
      "59776/60000 [============================>.] - ETA: 0s\n",
      "Accuracy:0.9883\n",
      "Precision:\n",
      "[ 0.9947582   0.99317406  0.99221395  0.98719632  0.9922534   0.98293891\n",
      "  0.99508475  0.98213156  0.98229184  0.98046745]\n",
      "Recall:\n",
      "[ 0.99324667  0.99273213  0.98388721  0.98091665  0.98664841  0.98837853\n",
      "  0.99205813  0.99138069  0.9859853   0.98722474]\n",
      "Confusion matrix, without normalization\n",
      "[[5883    0    2    1    2    3    8    2   18    4]\n",
      " [   1 6693    8    7    2    1    0   11   16    3]\n",
      " [   7    5 5862   15    9    1    1   37   19    2]\n",
      " [   1    0   12 6014    0   44    1   24   22   13]\n",
      " [   2   12    5    0 5764    0    3    4    3   49]\n",
      " [   4    0    2   20    3 5358   13    4    9    8]\n",
      " [   7    4    0    0    8   19 5871    0    9    0]\n",
      " [   1    8   11    3    5    2    0 6211    1   23]\n",
      " [   4   15    6   16    2   15    2    7 5769   15]\n",
      " [   4    2    0   16   14    8    1   24    7 5873]]\n"
     ]
    },
    {
     "data": {
      "image/png": "[encoded data removed]",
      "text/plain": [
       "<matplotlib.figure.Figure at 0x7f56501c9748>"
      ]
     },
     "metadata": {},
     "output_type": "display_data"
    }
   ],
   "source": [
    "sklearn_evaluations(X_train,y_train,modeld,\"mnist_model.hdf5\")"
   ]
  },
  {
   "cell_type": "markdown",
   "metadata": {},
   "source": [
    "## 7. Test evaluation"
   ]
  },
  {
   "cell_type": "code",
   "execution_count": 138,
   "metadata": {},
   "outputs": [
    {
     "name": "stdout",
     "output_type": "stream",
     "text": [
      " 9216/10000 [==========================>...] - ETA: 0s\n",
      "Accuracy:0.9774\n",
      "Precision:\n",
      "[ 0.9837233   0.98683055  0.9813176   0.97435897  0.97948718  0.96909492\n",
      "  0.98417722  0.96721311  0.97722567  0.96945813]\n",
      "Recall:\n",
      "[ 0.98673469  0.99030837  0.96705426  0.97821782  0.97250509  0.98430493\n",
      "  0.97390397  0.97568093  0.96919918  0.97522299]\n",
      "Confusion matrix, without normalization\n",
      "[[ 967    0    2    2    1    2    3    1    2    0]\n",
      " [   0 1124    3    3    0    1    1    0    3    0]\n",
      " [   4    0  998    5    5    0    2   12    6    0]\n",
      " [   0    0    2  988    0   10    0    6    2    2]\n",
      " [   0    1    3    0  955    0    4    2    2   15]\n",
      " [   2    0    0    3    0  878    3    0    3    3]\n",
      " [   3    3    0    1    6    7  933    1    4    0]\n",
      " [   1    5    8    3    0    0    0 1003    0    8]\n",
      " [   5    1    1    5    3    5    1    6  944    3]\n",
      " [   1    5    0    4    5    3    1    6    0  984]]\n"
     ]
    },
    {
     "data": {
      "image/png": "[encoded data removed]",
      "text/plain": [
       "<matplotlib.figure.Figure at 0x7f56501d4ba8>"
      ]
     },
     "metadata": {},
     "output_type": "display_data"
    }
   ],
   "source": [
    "sklearn_evaluations(X_test,y_test,modeld,\"mnist_model.hdf5\")"
   ]
  },
  {
   "cell_type": "markdown",
   "metadata": {},
   "source": [
    "## 3.3 Define model architecture: ResNet/HighwayNet"
   ]
  },
  {
   "cell_type": "code",
   "execution_count": 13,
   "metadata": {
    "collapsed": true
   },
   "outputs": [],
   "source": [
    "def conv_block(feat_maps_out, prev):\n",
    "    prev = BatchNormalization(axis=1)(prev) # Specifying the axis and mode allows for later merging\n",
    "    prev = Activation('relu')(prev)\n",
    "    prev = Conv2D(feat_maps_out, (3, 3), padding='same')(prev) \n",
    "    prev = BatchNormalization(axis=1)(prev) # Specifying the axis and mode allows for later merging\n",
    "    prev = Activation('relu')(prev)\n",
    "    prev = Conv2D(feat_maps_out, (3, 3), padding='same')(prev) \n",
    "    return prev\n",
    "\n",
    "def skip_block(feat_maps_in, feat_maps_out, prev):\n",
    "    if feat_maps_in != feat_maps_out:\n",
    "        # This adds in a 1x1 convolution on shortcuts that map between an uneven amount of channels\n",
    "        prev = Conv2D(feat_maps_out, (1, 1), padding='same')(prev)\n",
    "    return prev \n",
    "\n",
    "def Residual(feat_maps_in, feat_maps_out, prev_layer):\n",
    "    '''\n",
    "    A customizable residual unit with convolutional and shortcut blocks\n",
    "    Args:\n",
    "      feat_maps_in: number of channels/filters coming in, from input or previous layer\n",
    "      feat_maps_out: how many output channels/filters this block will produce\n",
    "      prev_layer: the previous layer\n",
    "    '''\n",
    "\n",
    "    skip = skip_block(feat_maps_in, feat_maps_out, prev_layer)\n",
    "    conv = conv_block(feat_maps_out, prev_layer)\n",
    "    \n",
    "    merged = add([skip,conv])\n",
    "\n",
    "    print('Residual block mapping '+str(feat_maps_in)+' channels to '+str(feat_maps_out)+' channels built')\n",
    "    return merged # the residual connection"
   ]
  },
  {
   "cell_type": "code",
   "execution_count": 53,
   "metadata": {},
   "outputs": [
    {
     "name": "stdout",
     "output_type": "stream",
     "text": [
      "Residual block mapping 32 channels to 128 channels built\n",
      "Residual block mapping 128 channels to 128 channels built\n",
      "Residual block mapping 128 channels to 256 channels built\n"
     ]
    }
   ],
   "source": [
    "img_rows = X_train.shape[1]  \n",
    "img_cols = X_train.shape[2] \n",
    "\n",
    "inp = Input((img_rows, img_cols,1))\n",
    "cnv1 = Conv2D(32, (3, 3), strides=[2,2], activation='relu', padding='same')(inp)#28*28/4=196 ami = 14*14\n",
    "r1 = Residual(32, 128, cnv1)\n",
    "# An example residual unit coming after a convolutional layer. NOTE: the above residual takes the 64 output\n",
    "# channels from the Convolutional2D layer as the first argument to the Residual function\n",
    "r2 = Residual(128, 128, r1)\n",
    "r3 = Residual(128, 256, r2)\n",
    "cnv2 = Conv2D(1, (1, 1), padding='same', activation='sigmoid')(r3)\n",
    "# mintában a fenti conv2 volt az output, de shape probléma volt, így a következő 2 sort tettem bele, így a fit elkezdett futni\n",
    "fl = Flatten()(cnv2)\n",
    "out = Dense(10)(fl)\n",
    "#out = Convolution2D(10,1, activation='sigmoid')(r3)\n",
    "\n",
    "modelr = Model(inputs=inp, outputs=out)\n",
    "\n",
    "modelr.compile(optimizer=optimizers.Adam(), loss='mean_squared_error')"
   ]
  },
  {
   "cell_type": "code",
   "execution_count": 54,
   "metadata": {
    "collapsed": true
   },
   "outputs": [],
   "source": [
    "plot_model(modelr, to_file='model.png',show_shapes=True)"
   ]
  },
  {
   "cell_type": "code",
   "execution_count": 55,
   "metadata": {
    "scrolled": true
   },
   "outputs": [
    {
     "data": {
      "text/plain": [
       "(60000, 28, 28, 1)"
      ]
     },
     "execution_count": 55,
     "metadata": {},
     "output_type": "execute_result"
    }
   ],
   "source": [
    "X_train.shape"
   ]
  },
  {
   "cell_type": "code",
   "execution_count": 56,
   "metadata": {},
   "outputs": [
    {
     "data": {
      "text/plain": [
       "(60000, 10)"
      ]
     },
     "execution_count": 56,
     "metadata": {},
     "output_type": "execute_result"
    }
   ],
   "source": [
    "Y_train.shape"
   ]
  },
  {
   "cell_type": "code",
   "execution_count": 51,
   "metadata": {
    "collapsed": true
   },
   "outputs": [
    {
     "ename": "ValueError",
     "evalue": "Error when checking target: expected dense_6 to have shape (None, 1) but got array with shape (1000, 10)",
     "output_type": "error",
     "traceback": [
      "\u001b[0;31m---------------------------------------------------------------------------\u001b[0m",
      "\u001b[0;31mValueError\u001b[0m                                Traceback (most recent call last)",
      "\u001b[0;32m<ipython-input-51-245eea7fe1a4>\u001b[0m in \u001b[0;36m<module>\u001b[0;34m()\u001b[0m\n\u001b[1;32m     17\u001b[0m     \u001b[0mverbose\u001b[0m\u001b[0;34m=\u001b[0m\u001b[0;36m1\u001b[0m\u001b[0;34m,\u001b[0m\u001b[0;34m\u001b[0m\u001b[0m\n\u001b[1;32m     18\u001b[0m     \u001b[0mvalidation_split\u001b[0m\u001b[0;34m=\u001b[0m\u001b[0;36m0.1\u001b[0m\u001b[0;34m,\u001b[0m\u001b[0;34m\u001b[0m\u001b[0m\n\u001b[0;32m---> 19\u001b[0;31m     \u001b[0mbatch_size\u001b[0m\u001b[0;34m=\u001b[0m\u001b[0;36m32\u001b[0m\u001b[0;34m,\u001b[0m\u001b[0;34m\u001b[0m\u001b[0m\n\u001b[0m\u001b[1;32m     20\u001b[0m )\n",
      "\u001b[0;32m/home/nani/anaconda3/envs/jupyter-env/lib/python3.5/site-packages/keras/engine/training.py\u001b[0m in \u001b[0;36mfit\u001b[0;34m(self, x, y, batch_size, epochs, verbose, callbacks, validation_split, validation_data, shuffle, class_weight, sample_weight, initial_epoch, **kwargs)\u001b[0m\n\u001b[1;32m   1433\u001b[0m             \u001b[0mclass_weight\u001b[0m\u001b[0;34m=\u001b[0m\u001b[0mclass_weight\u001b[0m\u001b[0;34m,\u001b[0m\u001b[0;34m\u001b[0m\u001b[0m\n\u001b[1;32m   1434\u001b[0m             \u001b[0mcheck_batch_axis\u001b[0m\u001b[0;34m=\u001b[0m\u001b[0;32mFalse\u001b[0m\u001b[0;34m,\u001b[0m\u001b[0;34m\u001b[0m\u001b[0m\n\u001b[0;32m-> 1435\u001b[0;31m             batch_size=batch_size)\n\u001b[0m\u001b[1;32m   1436\u001b[0m         \u001b[0;31m# Prepare validation data.\u001b[0m\u001b[0;34m\u001b[0m\u001b[0;34m\u001b[0m\u001b[0m\n\u001b[1;32m   1437\u001b[0m         \u001b[0;32mif\u001b[0m \u001b[0mvalidation_data\u001b[0m\u001b[0;34m:\u001b[0m\u001b[0;34m\u001b[0m\u001b[0m\n",
      "\u001b[0;32m/home/nani/anaconda3/envs/jupyter-env/lib/python3.5/site-packages/keras/engine/training.py\u001b[0m in \u001b[0;36m_standardize_user_data\u001b[0;34m(self, x, y, sample_weight, class_weight, check_batch_axis, batch_size)\u001b[0m\n\u001b[1;32m   1313\u001b[0m                                     \u001b[0moutput_shapes\u001b[0m\u001b[0;34m,\u001b[0m\u001b[0;34m\u001b[0m\u001b[0m\n\u001b[1;32m   1314\u001b[0m                                     \u001b[0mcheck_batch_axis\u001b[0m\u001b[0;34m=\u001b[0m\u001b[0;32mFalse\u001b[0m\u001b[0;34m,\u001b[0m\u001b[0;34m\u001b[0m\u001b[0m\n\u001b[0;32m-> 1315\u001b[0;31m                                     exception_prefix='target')\n\u001b[0m\u001b[1;32m   1316\u001b[0m         sample_weights = _standardize_sample_weights(sample_weight,\n\u001b[1;32m   1317\u001b[0m                                                      self._feed_output_names)\n",
      "\u001b[0;32m/home/nani/anaconda3/envs/jupyter-env/lib/python3.5/site-packages/keras/engine/training.py\u001b[0m in \u001b[0;36m_standardize_input_data\u001b[0;34m(data, names, shapes, check_batch_axis, exception_prefix)\u001b[0m\n\u001b[1;32m    137\u001b[0m                             \u001b[0;34m' to have shape '\u001b[0m \u001b[0;34m+\u001b[0m \u001b[0mstr\u001b[0m\u001b[0;34m(\u001b[0m\u001b[0mshapes\u001b[0m\u001b[0;34m[\u001b[0m\u001b[0mi\u001b[0m\u001b[0;34m]\u001b[0m\u001b[0;34m)\u001b[0m \u001b[0;34m+\u001b[0m\u001b[0;34m\u001b[0m\u001b[0m\n\u001b[1;32m    138\u001b[0m                             \u001b[0;34m' but got array with shape '\u001b[0m \u001b[0;34m+\u001b[0m\u001b[0;34m\u001b[0m\u001b[0m\n\u001b[0;32m--> 139\u001b[0;31m                             str(array.shape))\n\u001b[0m\u001b[1;32m    140\u001b[0m     \u001b[0;32mreturn\u001b[0m \u001b[0marrays\u001b[0m\u001b[0;34m\u001b[0m\u001b[0m\n\u001b[1;32m    141\u001b[0m \u001b[0;34m\u001b[0m\u001b[0m\n",
      "\u001b[0;31mValueError\u001b[0m: Error when checking target: expected dense_6 to have shape (None, 1) but got array with shape (1000, 10)"
     ]
    }
   ],
   "source": [
    "modelr.fit(\n",
    "    # Feature matrix\n",
    "    X_train[:1000], \n",
    "    # Target class one-hot-encoded\n",
    "    Y_train[:1000],\n",
    "    # Iterations to be run if not stopped by EarlyStopping\n",
    "    epochs=100,\n",
    "    callbacks=[\n",
    "        EarlyStopping(monitor='val_loss',patience=5),\n",
    "        ModelCheckpoint(\n",
    "            'mnist_residualmodel.hdf5', \n",
    "            monitor='val_loss',\n",
    "            save_best_only=True,\n",
    "            verbose=1\n",
    "        )\n",
    "    ],\n",
    "    verbose=1,\n",
    "    validation_split=0.1,\n",
    "    batch_size=32, \n",
    ")"
   ]
  },
  {
   "cell_type": "code",
   "execution_count": 66,
   "metadata": {},
   "outputs": [
    {
     "ename": "IndexError",
     "evalue": "invalid index to scalar variable.",
     "output_type": "error",
     "traceback": [
      "\u001b[0;31m---------------------------------------------------------------------------\u001b[0m",
      "\u001b[0;31mIndexError\u001b[0m                                Traceback (most recent call last)",
      "\u001b[0;32m<ipython-input-66-d8136965f097>\u001b[0m in \u001b[0;36m<module>\u001b[0;34m()\u001b[0m\n\u001b[1;32m      5\u001b[0m \u001b[0mmodelr\u001b[0m\u001b[0;34m.\u001b[0m\u001b[0mload_weights\u001b[0m\u001b[0;34m(\u001b[0m\u001b[0mmodel_name\u001b[0m\u001b[0;34m)\u001b[0m\u001b[0;34m\u001b[0m\u001b[0m\n\u001b[1;32m      6\u001b[0m \u001b[0mscore_test\u001b[0m \u001b[0;34m=\u001b[0m \u001b[0mmodelr\u001b[0m\u001b[0;34m.\u001b[0m\u001b[0mevaluate\u001b[0m\u001b[0;34m(\u001b[0m\u001b[0mX\u001b[0m\u001b[0;34m,\u001b[0m \u001b[0mY_test\u001b[0m\u001b[0;34m,\u001b[0m \u001b[0mverbose\u001b[0m\u001b[0;34m=\u001b[0m\u001b[0;36m0\u001b[0m\u001b[0;34m)\u001b[0m\u001b[0;34m\u001b[0m\u001b[0m\n\u001b[0;32m----> 7\u001b[0;31m \u001b[0mprint\u001b[0m\u001b[0;34m(\u001b[0m\u001b[0;34m\"loss:%0.4f\"\u001b[0m\u001b[0;34m%\u001b[0m\u001b[0mscore_test\u001b[0m\u001b[0;34m[\u001b[0m\u001b[0;36m0\u001b[0m\u001b[0;34m]\u001b[0m\u001b[0;34m)\u001b[0m\u001b[0;34m\u001b[0m\u001b[0m\n\u001b[0m\u001b[1;32m      8\u001b[0m \u001b[0mprint\u001b[0m\u001b[0;34m(\u001b[0m\u001b[0;34m\"accuracy:%0.4f\"\u001b[0m\u001b[0;34m%\u001b[0m\u001b[0mscore_test\u001b[0m\u001b[0;34m[\u001b[0m\u001b[0;36m1\u001b[0m\u001b[0;34m]\u001b[0m\u001b[0;34m)\u001b[0m\u001b[0;34m\u001b[0m\u001b[0m\n",
      "\u001b[0;31mIndexError\u001b[0m: invalid index to scalar variable."
     ]
    }
   ],
   "source": [
    "model_name =  \"mnist_residualmodel.hdf5\"\n",
    "X = X_test\n",
    "y = y_test\n",
    "#Evaluate\n",
    "modelr.load_weights(model_name)\n",
    "score_test = modelr.evaluate(X, Y_test, verbose=0)\n",
    "print(\"loss:%0.4f\"%score_test[0])\n",
    "print(\"accuracy:%0.4f\"%score_test[1])"
   ]
  },
  {
   "cell_type": "code",
   "execution_count": null,
   "metadata": {
    "collapsed": true
   },
   "outputs": [],
   "source": []
  },
  {
   "cell_type": "code",
   "execution_count": null,
   "metadata": {
    "collapsed": true
   },
   "outputs": [],
   "source": [
    "# Predict classes\n",
    "modelr.load_weights(model_name)\n",
    "y_preds = modelr.predict(X) #a sima sklearn_learn nem jo mert mashogy kell predikalni ennel a haloosszeallitasnal"
   ]
  },
  {
   "cell_type": "code",
   "execution_count": null,
   "metadata": {
    "collapsed": true
   },
   "outputs": [],
   "source": [
    "#sklearn accuracy score\n",
    "print(\"\\nAccuracy:%0.4f\"%accuracy_score(y, y_preds))\n",
    "#sklearn precision score\n",
    "print(\"Precision:\")\n",
    "print(precision_score(y, y_preds,average=None))\n",
    "#sklearn recall\n",
    "print(\"Recall:\")\n",
    "print(recall_score(y, y_preds,average=None))\n",
    "#Confusion matrix\n",
    "confMatrix = confusion_matrix(y, y_preds)\n",
    "plot_confusion_matrix(confMatrix, classes=[0,1,2,3,4,5,6,7,8,9],\n",
    "                        title='Confusion matrix, without normalization')"
   ]
  },
  {
   "cell_type": "code",
   "execution_count": null,
   "metadata": {
    "collapsed": true
   },
   "outputs": [],
   "source": []
  },
  {
   "cell_type": "markdown",
   "metadata": {},
   "source": [
    "# Trash"
   ]
  },
  {
   "cell_type": "code",
   "execution_count": null,
   "metadata": {
    "collapsed": true
   },
   "outputs": [],
   "source": [
    "import tensorflow as tf\n",
    "import numpy as np\n",
    "import tensorflow.contrib.slim as slim"
   ]
  },
  {
   "cell_type": "code",
   "execution_count": null,
   "metadata": {
    "collapsed": true
   },
   "outputs": [],
   "source": [
    "total_layers = 25 #Specify how deep we want our network\n",
    "units_between_stride = int(total_layers / 5) ####must be integer"
   ]
  },
  {
   "cell_type": "code",
   "execution_count": null,
   "metadata": {
    "collapsed": true
   },
   "outputs": [],
   "source": [
    "def resUnit(input_layer,i):\n",
    "    with tf.variable_scope(\"res_unit\"+str(i),reuse=None):\n",
    "        part1 = slim.batch_norm(input_layer,activation_fn=None)\n",
    "        part2 = tf.nn.relu(part1)\n",
    "        part3 = slim.conv2d(part2,64,[3,3],activation_fn=None)\n",
    "        part4 = slim.batch_norm(part3,activation_fn=None)\n",
    "        part5 = tf.nn.relu(part4)\n",
    "        part6 = slim.conv2d(part5,64,[3,3],activation_fn=None)\n",
    "        output = input_layer + part6\n",
    "        return output"
   ]
  },
  {
   "cell_type": "code",
   "execution_count": null,
   "metadata": {
    "collapsed": true
   },
   "outputs": [],
   "source": [
    "tf.reset_default_graph()"
   ]
  },
  {
   "cell_type": "code",
   "execution_count": null,
   "metadata": {
    "collapsed": true
   },
   "outputs": [],
   "source": [
    "input_layer = tf.placeholder(shape=[None,28,28,1],dtype=tf.float32,name='input') #X_test hova?\n",
    "label_layer = tf.placeholder(shape=[None],dtype=tf.int32) #y_test hova?\n",
    "label_oh = slim.layers.one_hot_encoding(label_layer,10)"
   ]
  },
  {
   "cell_type": "code",
   "execution_count": null,
   "metadata": {
    "collapsed": true
   },
   "outputs": [],
   "source": [
    "layer1 = slim.conv2d(input_layer,64,[3,3],normalizer_fn=slim.batch_norm,scope='conv_'+str(0),reuse=None)\n",
    "for i in range(5):\n",
    "    for j in range(units_between_stride):\n",
    "        layer1 = resUnit(layer1,j + (i*units_between_stride))\n",
    "    layer1 = slim.conv2d(layer1,64,[3,3],stride=[2,2],normalizer_fn=slim.batch_norm,scope='conv_s_'+str(i))\n",
    "    \n",
    "top = slim.conv2d(layer1,10,[3,3],normalizer_fn=slim.batch_norm,activation_fn=None,scope='conv_top')\n",
    "\n",
    "output = slim.layers.softmax(slim.layers.flatten(top))\n",
    "\n",
    "loss = tf.reduce_mean(-tf.reduce_sum(label_oh * tf.log(output) + 1e-10, reduction_indices=[1]))\n",
    "trainer = tf.train.AdamOptimizer(learning_rate=0.001)\n",
    "update = trainer.minimize(loss)"
   ]
  },
  {
   "cell_type": "markdown",
   "metadata": {},
   "source": [
    "### Valami más"
   ]
  },
  {
   "cell_type": "code",
   "execution_count": null,
   "metadata": {
    "collapsed": true
   },
   "outputs": [],
   "source": [
    "# Generate Predictions\n",
    "predictions = {\n",
    "  \"classes\": tf.argmax(\n",
    "      input=logits, axis=1),\n",
    "  \"probabilities\": tf.nn.softmax(\n",
    "      logits, name=\"softmax_tensor\")"
   ]
  },
  {
   "cell_type": "code",
   "execution_count": 240,
   "metadata": {
    "collapsed": true
   },
   "outputs": [],
   "source": [
    "sess = tf.Session()\n",
    "init = tf.global_variables_initializer()\n",
    "sess.run(init)"
   ]
  },
  {
   "cell_type": "code",
   "execution_count": 241,
   "metadata": {},
   "outputs": [
    {
     "ename": "IndentationError",
     "evalue": "unexpected indent (<ipython-input-241-3eb8a88b84d1>, line 2)",
     "output_type": "error",
     "traceback": [
      "\u001b[0;36m  File \u001b[0;32m\"<ipython-input-241-3eb8a88b84d1>\"\u001b[0;36m, line \u001b[0;32m2\u001b[0m\n\u001b[0;31m    accuracy_test = slim.metrics.accuracy(tf.to_int32(tf.argmax(predictions_test, 1)), tf.to_int32(tf.argmax(labels_test, 1)))\u001b[0m\n\u001b[0m    ^\u001b[0m\n\u001b[0;31mIndentationError\u001b[0m\u001b[0;31m:\u001b[0m unexpected indent\n"
     ]
    }
   ],
   "source": [
    "accuracy_validation = slim.metrics.accuracy(tf.to_int32(tf.argmax(predictions_validation, 1)), tf.to_int32(tf.argmax(labels_validation, 1)))\n",
    "  accuracy_test = slim.metrics.accuracy(tf.to_int32(tf.argmax(predictions_test, 1)), tf.to_int32(tf.argmax(labels_test, 1)))"
   ]
  },
  {
   "cell_type": "code",
   "execution_count": null,
   "metadata": {
    "collapsed": true
   },
   "outputs": [],
   "source": []
  }
 ],
 "metadata": {
  "kernelspec": {
   "display_name": "Python 3",
   "language": "python",
   "name": "python3"
  },
  "language_info": {
   "codemirror_mode": {
    "name": "ipython",
    "version": 3
   },
   "file_extension": ".py",
   "mimetype": "text/x-python",
   "name": "python",
   "nbconvert_exporter": "python",
   "pygments_lexer": "ipython3",
   "version": "3.5.3"
  }
 },
 "nbformat": 4,
 "nbformat_minor": 2
}
